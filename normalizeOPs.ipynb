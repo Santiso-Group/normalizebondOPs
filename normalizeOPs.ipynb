{
 "cells": [
  {
   "cell_type": "code",
   "execution_count": null,
   "id": "living-export",
   "metadata": {},
   "outputs": [],
   "source": [
    "import numpy as np\n",
    "import mdtraj as md\n",
    "import sys\n",
    "np.set_printoptions(threshold=sys.maxsize)\n"
   ]
  },
  {
   "cell_type": "code",
   "execution_count": null,
   "id": "purple-hobby",
   "metadata": {},
   "outputs": [],
   "source": [
    "t = md.load('coordinates.pdb')\n",
    "\n",
    "origin = 1 #index for first origin atom\n",
    "atomspermol = 6 #how many atoms per mole\n",
    "nmols = 4000 #total number of molecules\n",
    "cutoff = 5 #cutoff in angstroms\n",
    "\n",
    "coords = t.xyz*10 #defines coordinates.  multiply by 10 to get angstroms, since mdtraj converts to nm.\n",
    "\n",
    "#computes distances from two sets of xyz coordinates\n",
    "def distance(p1,p2):\n",
    "    x1,y1,z1 = p1\n",
    "    x2,y2,z2 = p2\n",
    "    return np.sqrt((x2-x1)**2+(y2-y1)**2+(z2-z1)**2)\n",
    "\n",
    "neighbors = np.zeros((nmols,nmols))\n",
    "\n",
    "for i in range(nmols):\n",
    "    for j in range(i+1,nmols):\n",
    "        if distance(coords[0][i*atomspermol+origin],coords[0][j*atomspermol+origin]) <= cutoff:\n",
    "            neighbors[i][j] = 1\n",
    "            neighbors[j][i] = 1\n",
    "nneighbors = np.sum(neighbors,axis=1)"
   ]
  },
  {
   "cell_type": "code",
   "execution_count": null,
   "id": "musical-pursuit",
   "metadata": {},
   "outputs": [],
   "source": [
    "f = open('OPs.cop','r')\n",
    "g = open('normalOPs','w')\n",
    "\n",
    "orderparameters = []\n",
    "for x in f:\n",
    "    orderparameters.append(x)\n",
    "    \n",
    "f.close()\n",
    "\n",
    "bondops = np.array(orderparameters[(10+nmols):(10+2*nmols)],dtype=float)\n",
    "normalops = bondops/nneighbors\n",
    "np.savetxt('newOPs.txt',normalops)"
   ]
  }
 ],
 "metadata": {
  "kernelspec": {
   "display_name": "Python 3",
   "language": "python",
   "name": "python3"
  },
  "language_info": {
   "codemirror_mode": {
    "name": "ipython",
    "version": 3
   },
   "file_extension": ".py",
   "mimetype": "text/x-python",
   "name": "python",
   "nbconvert_exporter": "python",
   "pygments_lexer": "ipython3",
   "version": "3.7.4"
  }
 },
 "nbformat": 4,
 "nbformat_minor": 5
}
