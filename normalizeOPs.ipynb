{
 "cells": [
  {
   "cell_type": "code",
   "execution_count": 107,
   "id": "quantitative-virus",
   "metadata": {},
   "outputs": [],
   "source": [
    "import numpy as np\n",
    "import mdtraj as md\n",
    "import sys\n",
    "np.set_printoptions(threshold=sys.maxsize)\n"
   ]
  },
  {
   "cell_type": "code",
   "execution_count": 108,
   "id": "included-kidney",
   "metadata": {},
   "outputs": [],
   "source": [
    "t = md.load('OP19_7.pdb')\n",
    "origin = 0 #index for first origin atom\n",
    "atomspermol = 6 #how many atoms per mole\n",
    "nmols = 3200 #total number of molecules\n",
    "cutoff = 5 #cutoff in angstroms\n",
    "\n",
    "atom_indices = np.zeros(nmols, dtype=int)\n",
    "for i in range(len(atom_indices)):\n",
    "    atom_indices[i] = int(i*atomspermol+origin)\n",
    "\n",
    "t = t.atom_slice(atom_indices)\n",
    "#get PBCs bounds.  This only works for orthohombic PBCs for the time being.  Might implement more general solution later.\n",
    "pbc_vectors = np.diag(np.asarray((t.unitcell_vectors*10))[0])\n",
    "coords = t.xyz*10 #defines coordinates.  multiply by 10 to get angstroms, since mdtraj converts to nm.\n",
    "\n",
    "#computes distances from two sets of xyz coordinates\n",
    "def distance(a,b,bounds):\n",
    "    a = np.asarray((a))\n",
    "    b = np.asarray((b))\n",
    "    min_dists = np.min(np.dstack(((a - b) % bounds, (b - a) % bounds)), axis = 2)\n",
    "    dist = np.sqrt(np.sum(min_dists ** 2, axis = 1))\n",
    "    return dist\n",
    "\n"
   ]
  },
  {
   "cell_type": "code",
   "execution_count": 109,
   "id": "preliminary-provider",
   "metadata": {},
   "outputs": [],
   "source": [
    "neighbors = np.zeros((nmols,nmols))\n",
    "\n",
    "for i in range(nmols):\n",
    "    for j in range(i+1,nmols):\n",
    "        if distance(coords[0][i],coords[0][j], pbc_vectors) <= cutoff:\n",
    "            neighbors[i][j] = 1\n",
    "            neighbors[j][i] = 1\n",
    "nneighbors = np.sum(neighbors,axis=1)"
   ]
  },
  {
   "cell_type": "code",
   "execution_count": null,
   "id": "attended-accent",
   "metadata": {},
   "outputs": [],
   "source": []
  },
  {
   "cell_type": "code",
   "execution_count": 110,
   "id": "collect-confidentiality",
   "metadata": {},
   "outputs": [],
   "source": [
    "f = open('OP19_7.cop','r')\n",
    "g = open('normalOPs','w')\n",
    "\n",
    "orderparameters = []\n",
    "for x in f:\n",
    "    orderparameters.append(x)\n",
    "    \n",
    "f.close()\n",
    "\n",
    "bondops = np.array(orderparameters[(10+nmols):(10+2*nmols)],dtype=float)\n",
    "normalops = bondops/(nneighbors+1)\n",
    "np.savetxt('newOPs.txt',normalops)"
   ]
  },
  {
   "cell_type": "code",
   "execution_count": null,
   "id": "macro-charm",
   "metadata": {},
   "outputs": [],
   "source": []
  }
 ],
 "metadata": {
  "kernelspec": {
   "display_name": "Python 3",
   "language": "python",
   "name": "python3"
  },
  "language_info": {
   "codemirror_mode": {
    "name": "ipython",
    "version": 3
   },
   "file_extension": ".py",
   "mimetype": "text/x-python",
   "name": "python",
   "nbconvert_exporter": "python",
   "pygments_lexer": "ipython3",
   "version": "3.7.4"
  }
 },
 "nbformat": 4,
 "nbformat_minor": 5
}
